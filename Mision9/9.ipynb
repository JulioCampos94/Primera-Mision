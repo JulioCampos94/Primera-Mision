{
 "cells": [
  {
   "cell_type": "markdown",
   "metadata": {},
   "source": [
    "Ejercicio: Uso de funciones en Python\n",
    "\n",
    "Ejercicio 1: Trabajar con argumentos en funciones"
   ]
  },
  {
   "cell_type": "code",
   "execution_count": 4,
   "metadata": {},
   "outputs": [],
   "source": [
    "def Combustibles(combu_1, combu_2, combu_3):\n",
    "    promedio =  (combu_1+combu_2+combu_3) /3\n",
    "    return f\"\"\" Reporte final\n",
    "    Promedio : {promedio}\n",
    "    Combustible 1 : {combu_1}\n",
    "    Combustible 2 : {combu_2}\n",
    "    Combustible 3 : {combu_3}\n",
    "    \"\"\""
   ]
  },
  {
   "cell_type": "code",
   "execution_count": 5,
   "metadata": {},
   "outputs": [
    {
     "data": {
      "text/plain": [
       "' Reporte final\\n    Promedio : 3.0\\n    Combustible 1 : 2\\n    Combustible 2 : 3\\n    Combustible 3 : 4\\n    '"
      ]
     },
     "execution_count": 5,
     "metadata": {},
     "output_type": "execute_result"
    }
   ],
   "source": [
    "Combustibles ( 2,3,4)"
   ]
  },
  {
   "cell_type": "code",
   "execution_count": 6,
   "metadata": {},
   "outputs": [],
   "source": [
    "def promedio(valores):\n",
    "    total =  len(valores)\n",
    "    cantidad = sum(valores)\n",
    "    return cantidad/total"
   ]
  },
  {
   "cell_type": "code",
   "execution_count": 8,
   "metadata": {},
   "outputs": [
    {
     "data": {
      "text/plain": [
       "5.333333333333333"
      ]
     },
     "execution_count": 8,
     "metadata": {},
     "output_type": "execute_result"
    }
   ],
   "source": [
    "promedio([3,4,5,6,7,7])"
   ]
  },
  {
   "cell_type": "code",
   "execution_count": 14,
   "metadata": {},
   "outputs": [],
   "source": [
    "def Combustibles(combu_1, combu_2, combu_3):\n",
    "\n",
    "    prom= promedio([combu_1, combu_2, combu_3])\n",
    "    return f\"\"\" Reporte final\n",
    "    Promedio : {prom}\n",
    "    Combustible 1 : {combu_1}\n",
    "    Combustible 2 : {combu_2}\n",
    "    Combustible 3 : {combu_3}\n",
    "    \"\"\""
   ]
  },
  {
   "cell_type": "code",
   "execution_count": 15,
   "metadata": {},
   "outputs": [
    {
     "data": {
      "text/plain": [
       "' Reporte final\\n    Promedio : 3.0\\n    Combustible 1 : 2\\n    Combustible 2 : 3\\n    Combustible 3 : 4\\n    '"
      ]
     },
     "execution_count": 15,
     "metadata": {},
     "output_type": "execute_result"
    }
   ],
   "source": [
    "Combustibles(2,3,4)"
   ]
  },
  {
   "cell_type": "markdown",
   "metadata": {},
   "source": [
    "Ejercicio 2: Trabajo con argumentos de palabra clave\n",
    "\n",
    "Ejercicio : Trabajar con argumentos de palabras clave en funciones"
   ]
  },
  {
   "cell_type": "code",
   "execution_count": 20,
   "metadata": {},
   "outputs": [
    {
     "data": {
      "text/plain": [
       "'\\n    Destino : jupiter\\n    Total de tiempo: 50\\n    Total de tanque: 68\\n    '"
      ]
     },
     "execution_count": 20,
     "metadata": {},
     "output_type": "execute_result"
    }
   ],
   "source": [
    "def informe(preelanzamiento, tiempo_vuelo , destino, tanque_externo, tanque_interno):\n",
    "    return f\"\"\"\n",
    "    Destino : {destino}\n",
    "    Total de tiempo: {tiempo_vuelo + preelanzamiento}\n",
    "    Total de tanque: {tanque_externo+tanque_interno}\n",
    "    \"\"\"\n",
    "informe(10,40,'jupiter',12,56)"
   ]
  },
  {
   "cell_type": "code",
   "execution_count": 21,
   "metadata": {},
   "outputs": [
    {
     "data": {
      "text/plain": [
       "'\\n    Destino : jupiter\\n    Total de tiempo: 73\\n    Total de tanque: 27\\n    '"
      ]
     },
     "execution_count": 21,
     "metadata": {},
     "output_type": "execute_result"
    }
   ],
   "source": [
    "def informe(destino, *minutos, **tanques):\n",
    "    return f\"\"\"\n",
    "    Destino : {destino}\n",
    "    Total de tiempo: {sum(minutos)}\n",
    "    Total de tanque: {sum(tanques.values())}\n",
    "    \"\"\"\n",
    "informe (\"jupiter\", 34,34,5,principal=12,externo = 15)"
   ]
  },
  {
   "cell_type": "code",
   "execution_count": 26,
   "metadata": {},
   "outputs": [
    {
     "data": {
      "text/plain": [
       "'\\n    Destino : jupiter\\n    Total de tiempo: 73\\n    Total de tanque: 27\\n    En el tanque principal quedan 12 litros. En el tanque externo quedan 15 litros. '"
      ]
     },
     "execution_count": 26,
     "metadata": {},
     "output_type": "execute_result"
    }
   ],
   "source": [
    "def informe(destino, *minutos, **tanques):\n",
    "    reporte =  f\"\"\"\n",
    "    Destino : {destino}\n",
    "    Total de tiempo: {sum(minutos)}\n",
    "    Total de tanque: {sum(tanques.values())}\n",
    "    \"\"\"\n",
    "    for nombre, cantidad in tanques.items():\n",
    "        reporte +=  f'En el tanque {nombre} quedan {cantidad} litros. '\n",
    "    return reporte\n",
    "\n",
    "informe (\"jupiter\", 34,34,5,principal=12,externo = 15)"
   ]
  }
 ],
 "metadata": {
  "interpreter": {
   "hash": "31f2aee4e71d21fbe5cf8b01ff0e069b9275f58929596ceb00d14d90e3e16cd6"
  },
  "kernelspec": {
   "display_name": "Python 3.8.9 64-bit",
   "language": "python",
   "name": "python3"
  },
  "language_info": {
   "codemirror_mode": {
    "name": "ipython",
    "version": 3
   },
   "file_extension": ".py",
   "mimetype": "text/x-python",
   "name": "python",
   "nbconvert_exporter": "python",
   "pygments_lexer": "ipython3",
   "version": "3.8.9"
  },
  "orig_nbformat": 4
 },
 "nbformat": 4,
 "nbformat_minor": 2
}
