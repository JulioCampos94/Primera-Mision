{
 "cells": [
  {
   "cell_type": "code",
   "execution_count": 2,
   "metadata": {},
   "outputs": [],
   "source": [
    "Tierra = 149597870\n",
    "Jupiter = 778547200"
   ]
  },
  {
   "cell_type": "code",
   "execution_count": 6,
   "metadata": {},
   "outputs": [
    {
     "name": "stdout",
     "output_type": "stream",
     "text": [
      "La distancia en km es 628949330\n",
      "Ls distancia en mi es 390577534)\n"
     ]
    }
   ],
   "source": [
    "Distancia  = Jupiter -  Tierra\n",
    "print(f\"La distancia en km es {Distancia}\")\n",
    "print(f\"Ls distancia en mi es {round(Distancia*0.621)})\")"
   ]
  },
  {
   "cell_type": "code",
   "execution_count": 10,
   "metadata": {},
   "outputs": [
    {
     "name": "stdout",
     "output_type": "stream",
     "text": [
      "150 180\n"
     ]
    }
   ],
   "source": [
    "\n",
    "Planeta_1 = input('Introduzca la distancia del primer planeta al sol en km')\n",
    "Planeta_2 = input('Introduzca la distancia del segundo planeta al sol en km')\n",
    "print(Planeta_1, Planeta_2)"
   ]
  },
  {
   "cell_type": "code",
   "execution_count": 12,
   "metadata": {},
   "outputs": [
    {
     "name": "stdout",
     "output_type": "stream",
     "text": [
      "150 180\n"
     ]
    }
   ],
   "source": [
    "Planeta_1=  int(Planeta_1)\n",
    "Planeta_2 = int(Planeta_2)\n",
    "print(Planeta_1, Planeta_2)"
   ]
  },
  {
   "cell_type": "code",
   "execution_count": 14,
   "metadata": {},
   "outputs": [
    {
     "name": "stdout",
     "output_type": "stream",
     "text": [
      "30\n",
      "18.63\n"
     ]
    }
   ],
   "source": [
    "diferencia = abs(Planeta_1-Planeta_2)\n",
    "print(diferencia)\n",
    "diferencia_millas = diferencia*0.621\n",
    "print(diferencia_millas)"
   ]
  }
 ],
 "metadata": {
  "interpreter": {
   "hash": "31f2aee4e71d21fbe5cf8b01ff0e069b9275f58929596ceb00d14d90e3e16cd6"
  },
  "kernelspec": {
   "display_name": "Python 3.8.9 64-bit",
   "language": "python",
   "name": "python3"
  },
  "language_info": {
   "codemirror_mode": {
    "name": "ipython",
    "version": 3
   },
   "file_extension": ".py",
   "mimetype": "text/x-python",
   "name": "python",
   "nbconvert_exporter": "python",
   "pygments_lexer": "ipython3",
   "version": "3.8.9"
  },
  "orig_nbformat": 4
 },
 "nbformat": 4,
 "nbformat_minor": 2
}
